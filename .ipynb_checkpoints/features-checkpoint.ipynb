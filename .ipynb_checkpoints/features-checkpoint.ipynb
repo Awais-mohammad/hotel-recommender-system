{
 "cells": [
  {
   "cell_type": "code",
   "execution_count": 19,
   "id": "35a1d34f",
   "metadata": {},
   "outputs": [],
   "source": [
    "# libraries\n",
    "import pandas as pd\n",
    "import string\n",
    "import numpy as np\n",
    "from nltk.tokenize import word_tokenize"
   ]
  },
  {
   "cell_type": "code",
   "execution_count": 4,
   "id": "693f30a7",
   "metadata": {},
   "outputs": [
    {
     "data": {
      "text/plain": [
       "['test.csv', 'train.csv', 'validate.csv']"
      ]
     },
     "execution_count": 4,
     "metadata": {},
     "output_type": "execute_result"
    }
   ],
   "source": [
    "import os\n",
    "os.listdir('.\\\\processed\\\\Split_Data\\\\Splitted')"
   ]
  },
  {
   "cell_type": "code",
   "execution_count": 12,
   "id": "474626ac",
   "metadata": {},
   "outputs": [],
   "source": [
    "df=pd.read_csv('.\\\\processed\\\\Split_Data\\\\Splitted\\\\train.csv',low_memory=False)"
   ]
  },
  {
   "cell_type": "code",
   "execution_count": 13,
   "id": "9686c048",
   "metadata": {},
   "outputs": [],
   "source": [
    "rTxt=df.iloc[:,1]"
   ]
  },
  {
   "cell_type": "code",
   "execution_count": 14,
   "id": "4d4df5aa",
   "metadata": {},
   "outputs": [
    {
     "name": "stdout",
     "output_type": "stream",
     "text": [
      "41028\n"
     ]
    }
   ],
   "source": [
    "print(len(rTxt))"
   ]
  },
  {
   "cell_type": "code",
   "execution_count": 108,
   "id": "29513787",
   "metadata": {},
   "outputs": [],
   "source": [
    "a=['Hello awais : how ! are ? yo:u:::??','Hello bro : how ! are ? you?!$$?','dhfoishfo']"
   ]
  },
  {
   "cell_type": "code",
   "execution_count": 33,
   "id": "2beff747",
   "metadata": {},
   "outputs": [],
   "source": [
    "import numpy as np"
   ]
  },
  {
   "cell_type": "code",
   "execution_count": 8,
   "id": "1ca0faa2",
   "metadata": {},
   "outputs": [],
   "source": [
    "## count=0\n",
    "finalcount=[]\n",
    "for i in range(0,len(rTxt)):\n",
    "    newcount=[]\n",
    "    count=0\n",
    "    for j in range(0,len(rTxt[i])):\n",
    "        if rTxt[i][j] == ':' or rTxt[i][j] == '!' or rTxt[i][j] == '?':\n",
    "            count=count+1\n",
    "    finalcount.append(count)\n",
    "# \n",
    "# for i in a:\n",
    "#     if i == ':' or i == '!' or i == '?':\n",
    "#         count=count+1"
   ]
  },
  {
   "cell_type": "code",
   "execution_count": 11,
   "id": "8e2f3c5b",
   "metadata": {},
   "outputs": [
    {
     "data": {
      "text/html": [
       "<div>\n",
       "<style scoped>\n",
       "    .dataframe tbody tr th:only-of-type {\n",
       "        vertical-align: middle;\n",
       "    }\n",
       "\n",
       "    .dataframe tbody tr th {\n",
       "        vertical-align: top;\n",
       "    }\n",
       "\n",
       "    .dataframe thead th {\n",
       "        text-align: right;\n",
       "    }\n",
       "</style>\n",
       "<table border=\"1\" class=\"dataframe\">\n",
       "  <thead>\n",
       "    <tr style=\"text-align: right;\">\n",
       "      <th></th>\n",
       "      <th>ReviewID</th>\n",
       "      <th>ReviewText</th>\n",
       "      <th>Sentiments</th>\n",
       "      <th>Punctuations</th>\n",
       "    </tr>\n",
       "  </thead>\n",
       "  <tbody>\n",
       "    <tr>\n",
       "      <th>0</th>\n",
       "      <td>496345724</td>\n",
       "      <td>like hotel , walk distance almost everything ....</td>\n",
       "      <td>1</td>\n",
       "      <td>1</td>\n",
       "    </tr>\n",
       "    <tr>\n",
       "      <th>1</th>\n",
       "      <td>63423579</td>\n",
       "      <td>one best place stay around st. john 's , close...</td>\n",
       "      <td>1</td>\n",
       "      <td>0</td>\n",
       "    </tr>\n",
       "    <tr>\n",
       "      <th>2</th>\n",
       "      <td>278082769</td>\n",
       "      <td>Stayed 3 day visit LACMA Getty . Great locatio...</td>\n",
       "      <td>1</td>\n",
       "      <td>0</td>\n",
       "    </tr>\n",
       "    <tr>\n",
       "      <th>3</th>\n",
       "      <td>157142537</td>\n",
       "      <td>ok hotel great location . Room dark little dat...</td>\n",
       "      <td>1</td>\n",
       "      <td>0</td>\n",
       "    </tr>\n",
       "    <tr>\n",
       "      <th>4</th>\n",
       "      <td>280247939</td>\n",
       "      <td>beautiful hotel staff really go way make welco...</td>\n",
       "      <td>1</td>\n",
       "      <td>0</td>\n",
       "    </tr>\n",
       "  </tbody>\n",
       "</table>\n",
       "</div>"
      ],
      "text/plain": [
       "    ReviewID                                         ReviewText  Sentiments  \\\n",
       "0  496345724  like hotel , walk distance almost everything ....           1   \n",
       "1   63423579  one best place stay around st. john 's , close...           1   \n",
       "2  278082769  Stayed 3 day visit LACMA Getty . Great locatio...           1   \n",
       "3  157142537  ok hotel great location . Room dark little dat...           1   \n",
       "4  280247939  beautiful hotel staff really go way make welco...           1   \n",
       "\n",
       "   Punctuations  \n",
       "0             1  \n",
       "1             0  \n",
       "2             0  \n",
       "3             0  \n",
       "4             0  "
      ]
     },
     "execution_count": 11,
     "metadata": {},
     "output_type": "execute_result"
    }
   ],
   "source": [
    "# df.insert(len(df.columns), 'Punctuations', finalcount)\n",
    "# df.insert(len(df.columns), 'Punctuations', finalcount)\n",
    "# df.drop('Subjectivity_Score', axis=1, inplace=True)\n",
    "# # name=df.iloc[:,3]\n",
    "# df.head()\n",
    "len(df)\n",
    "df.head()"
   ]
  },
  {
   "cell_type": "code",
   "execution_count": 12,
   "id": "8ed5c412",
   "metadata": {},
   "outputs": [
    {
     "name": "stdout",
     "output_type": "stream",
     "text": [
      "removed col and added it back in\n"
     ]
    }
   ],
   "source": [
    "df.to_csv('.\\\\features\\\\afterPunctuations.csv', index=False)\n",
    "print('removed col and added it back in')"
   ]
  },
  {
   "cell_type": "markdown",
   "id": "ffbf4ab3",
   "metadata": {},
   "source": [
    "### Subjectivity Score "
   ]
  },
  {
   "cell_type": "code",
   "execution_count": 13,
   "id": "f64296c3",
   "metadata": {},
   "outputs": [],
   "source": [
    "df=pd.read_csv('.\\\\features\\\\afterPunctuations.csv',low_memory=False)"
   ]
  },
  {
   "cell_type": "code",
   "execution_count": 14,
   "id": "68c925e6",
   "metadata": {},
   "outputs": [
    {
     "data": {
      "text/html": [
       "<div>\n",
       "<style scoped>\n",
       "    .dataframe tbody tr th:only-of-type {\n",
       "        vertical-align: middle;\n",
       "    }\n",
       "\n",
       "    .dataframe tbody tr th {\n",
       "        vertical-align: top;\n",
       "    }\n",
       "\n",
       "    .dataframe thead th {\n",
       "        text-align: right;\n",
       "    }\n",
       "</style>\n",
       "<table border=\"1\" class=\"dataframe\">\n",
       "  <thead>\n",
       "    <tr style=\"text-align: right;\">\n",
       "      <th></th>\n",
       "      <th>ReviewID</th>\n",
       "      <th>ReviewText</th>\n",
       "      <th>Sentiments</th>\n",
       "      <th>Punctuations</th>\n",
       "    </tr>\n",
       "  </thead>\n",
       "  <tbody>\n",
       "    <tr>\n",
       "      <th>0</th>\n",
       "      <td>496345724</td>\n",
       "      <td>like hotel , walk distance almost everything ....</td>\n",
       "      <td>1</td>\n",
       "      <td>1</td>\n",
       "    </tr>\n",
       "    <tr>\n",
       "      <th>1</th>\n",
       "      <td>63423579</td>\n",
       "      <td>one best place stay around st. john 's , close...</td>\n",
       "      <td>1</td>\n",
       "      <td>0</td>\n",
       "    </tr>\n",
       "    <tr>\n",
       "      <th>2</th>\n",
       "      <td>278082769</td>\n",
       "      <td>Stayed 3 day visit LACMA Getty . Great locatio...</td>\n",
       "      <td>1</td>\n",
       "      <td>0</td>\n",
       "    </tr>\n",
       "  </tbody>\n",
       "</table>\n",
       "</div>"
      ],
      "text/plain": [
       "    ReviewID                                         ReviewText  Sentiments  \\\n",
       "0  496345724  like hotel , walk distance almost everything ....           1   \n",
       "1   63423579  one best place stay around st. john 's , close...           1   \n",
       "2  278082769  Stayed 3 day visit LACMA Getty . Great locatio...           1   \n",
       "\n",
       "   Punctuations  \n",
       "0             1  \n",
       "1             0  \n",
       "2             0  "
      ]
     },
     "execution_count": 14,
     "metadata": {},
     "output_type": "execute_result"
    }
   ],
   "source": [
    "df.head(3)"
   ]
  },
  {
   "cell_type": "code",
   "execution_count": 122,
   "id": "292e1e98",
   "metadata": {},
   "outputs": [
    {
     "name": "stdout",
     "output_type": "stream",
     "text": [
      "Collecting textblob\n",
      "  Downloading textblob-0.17.1-py2.py3-none-any.whl (636 kB)\n",
      "Requirement already satisfied: nltk>=3.1 in c:\\users\\awais\\anaconda3\\lib\\site-packages (from textblob) (3.6.1)\n",
      "Requirement already satisfied: regex in c:\\users\\awais\\anaconda3\\lib\\site-packages (from nltk>=3.1->textblob) (2021.4.4)\n",
      "Requirement already satisfied: joblib in c:\\users\\awais\\anaconda3\\lib\\site-packages (from nltk>=3.1->textblob) (1.0.1)\n",
      "Requirement already satisfied: tqdm in c:\\users\\awais\\anaconda3\\lib\\site-packages (from nltk>=3.1->textblob) (4.59.0)\n",
      "Requirement already satisfied: click in c:\\users\\awais\\anaconda3\\lib\\site-packages (from nltk>=3.1->textblob) (7.1.2)\n",
      "Installing collected packages: textblob\n",
      "Successfully installed textblob-0.17.1\n"
     ]
    }
   ],
   "source": [
    "!pip install textblob "
   ]
  },
  {
   "cell_type": "code",
   "execution_count": 15,
   "id": "05e0c0a8",
   "metadata": {},
   "outputs": [],
   "source": [
    "from textblob import TextBlob"
   ]
  },
  {
   "cell_type": "code",
   "execution_count": 19,
   "id": "2253bf1e",
   "metadata": {},
   "outputs": [
    {
     "name": "stdout",
     "output_type": "stream",
     "text": [
      "Sentiment(polarity=-0.24999999999999992, subjectivity=0.4833333333333333)\n"
     ]
    }
   ],
   "source": [
    "blob=TextBlob(\" The rooms are very spacious and well maintained but i could say that no its bad\")\n",
    "print(blob.sentiment)"
   ]
  },
  {
   "cell_type": "code",
   "execution_count": 15,
   "id": "1670a088",
   "metadata": {},
   "outputs": [],
   "source": [
    "r_txt=df['ReviewText']"
   ]
  },
  {
   "cell_type": "code",
   "execution_count": 16,
   "id": "d0eb8374",
   "metadata": {},
   "outputs": [
    {
     "data": {
      "text/plain": [
       "0        like hotel , walk distance almost everything ....\n",
       "1        one best place stay around st. john 's , close...\n",
       "2        Stayed 3 day visit LACMA Getty . Great locatio...\n",
       "3        ok hotel great location . Room dark little dat...\n",
       "4        beautiful hotel staff really go way make welco...\n",
       "                               ...                        \n",
       "41023    return one night stay . room105 road noise unb...\n",
       "41024    Average quality , staff try helpfull , hotel a...\n",
       "41025    book hot wire 7 year anniversary actually exci...\n",
       "41026    little Leary first Wyndham property last exper...\n",
       "41027    husband stay hotel one night begin June - hone...\n",
       "Name: ReviewText, Length: 41028, dtype: object"
      ]
     },
     "execution_count": 16,
     "metadata": {},
     "output_type": "execute_result"
    }
   ],
   "source": [
    "r_txt"
   ]
  },
  {
   "cell_type": "code",
   "execution_count": 22,
   "id": "92097413",
   "metadata": {},
   "outputs": [
    {
     "name": "stdout",
     "output_type": "stream",
     "text": [
      "41028\n"
     ]
    }
   ],
   "source": [
    "subjectivity=[]\n",
    "for i in range(0,len(r_txt)):\n",
    "    blob=TextBlob(r_txt[i])\n",
    "    sub=blob.sentiment.subjectivity\n",
    "    subjectivity.append(sub)\n",
    "print(len(subjectivity))"
   ]
  },
  {
   "cell_type": "code",
   "execution_count": 23,
   "id": "9a92708b",
   "metadata": {},
   "outputs": [],
   "source": [
    "df.insert(len(df.columns), 'Subjectivity_Score', subjectivity)"
   ]
  },
  {
   "cell_type": "code",
   "execution_count": 24,
   "id": "2aedb34c",
   "metadata": {},
   "outputs": [
    {
     "data": {
      "text/html": [
       "<div>\n",
       "<style scoped>\n",
       "    .dataframe tbody tr th:only-of-type {\n",
       "        vertical-align: middle;\n",
       "    }\n",
       "\n",
       "    .dataframe tbody tr th {\n",
       "        vertical-align: top;\n",
       "    }\n",
       "\n",
       "    .dataframe thead th {\n",
       "        text-align: right;\n",
       "    }\n",
       "</style>\n",
       "<table border=\"1\" class=\"dataframe\">\n",
       "  <thead>\n",
       "    <tr style=\"text-align: right;\">\n",
       "      <th></th>\n",
       "      <th>ReviewID</th>\n",
       "      <th>ReviewText</th>\n",
       "      <th>Sentiments</th>\n",
       "      <th>Punctuations</th>\n",
       "      <th>Subjectivity_Score</th>\n",
       "    </tr>\n",
       "  </thead>\n",
       "  <tbody>\n",
       "    <tr>\n",
       "      <th>0</th>\n",
       "      <td>496345724</td>\n",
       "      <td>like hotel , walk distance almost everything ....</td>\n",
       "      <td>1</td>\n",
       "      <td>1</td>\n",
       "      <td>0.683333</td>\n",
       "    </tr>\n",
       "    <tr>\n",
       "      <th>1</th>\n",
       "      <td>63423579</td>\n",
       "      <td>one best place stay around st. john 's , close...</td>\n",
       "      <td>1</td>\n",
       "      <td>0</td>\n",
       "      <td>0.510000</td>\n",
       "    </tr>\n",
       "    <tr>\n",
       "      <th>2</th>\n",
       "      <td>278082769</td>\n",
       "      <td>Stayed 3 day visit LACMA Getty . Great locatio...</td>\n",
       "      <td>1</td>\n",
       "      <td>0</td>\n",
       "      <td>0.572222</td>\n",
       "    </tr>\n",
       "    <tr>\n",
       "      <th>3</th>\n",
       "      <td>157142537</td>\n",
       "      <td>ok hotel great location . Room dark little dat...</td>\n",
       "      <td>1</td>\n",
       "      <td>0</td>\n",
       "      <td>0.643750</td>\n",
       "    </tr>\n",
       "    <tr>\n",
       "      <th>4</th>\n",
       "      <td>280247939</td>\n",
       "      <td>beautiful hotel staff really go way make welco...</td>\n",
       "      <td>1</td>\n",
       "      <td>0</td>\n",
       "      <td>0.621212</td>\n",
       "    </tr>\n",
       "  </tbody>\n",
       "</table>\n",
       "</div>"
      ],
      "text/plain": [
       "    ReviewID                                         ReviewText  Sentiments  \\\n",
       "0  496345724  like hotel , walk distance almost everything ....           1   \n",
       "1   63423579  one best place stay around st. john 's , close...           1   \n",
       "2  278082769  Stayed 3 day visit LACMA Getty . Great locatio...           1   \n",
       "3  157142537  ok hotel great location . Room dark little dat...           1   \n",
       "4  280247939  beautiful hotel staff really go way make welco...           1   \n",
       "\n",
       "   Punctuations  Subjectivity_Score  \n",
       "0             1            0.683333  \n",
       "1             0            0.510000  \n",
       "2             0            0.572222  \n",
       "3             0            0.643750  \n",
       "4             0            0.621212  "
      ]
     },
     "execution_count": 24,
     "metadata": {},
     "output_type": "execute_result"
    }
   ],
   "source": [
    "df.head()"
   ]
  },
  {
   "cell_type": "code",
   "execution_count": 25,
   "id": "c25c47a1",
   "metadata": {},
   "outputs": [
    {
     "name": "stdout",
     "output_type": "stream",
     "text": [
      "removed col and added it back in\n"
     ]
    }
   ],
   "source": [
    "df.to_csv('.\\\\features\\\\aftersubjectivity.csv', index=False)\n",
    "print('removed col and added it back in')"
   ]
  },
  {
   "cell_type": "markdown",
   "id": "a5595045",
   "metadata": {},
   "source": [
    "### Count of words with +ve,-ve and ~ sentiments in docs"
   ]
  },
  {
   "cell_type": "code",
   "execution_count": 47,
   "id": "60748886",
   "metadata": {},
   "outputs": [],
   "source": [
    "df=pd.read_csv('.\\\\features\\\\aftersubjectivity.csv',header='infer')\n",
    "rTxt=df['ReviewText']"
   ]
  },
  {
   "cell_type": "code",
   "execution_count": 7,
   "id": "008697c4",
   "metadata": {},
   "outputs": [],
   "source": [
    "# loading positve lexicon\n",
    "f = open(\".\\\\datasets\\\\lexicons\\\\pos.txt\", \"r\")\n",
    "poslex=[]\n",
    "for i in f:\n",
    "    poslex.append(i.strip())"
   ]
  },
  {
   "cell_type": "code",
   "execution_count": 9,
   "id": "0de87734",
   "metadata": {},
   "outputs": [],
   "source": [
    "# loading negative lexicon\n",
    "f = open(\".\\\\datasets\\\\lexicons\\\\neg.txt\", \"r\")\n",
    "neglex=[]\n",
    "for i in f:\n",
    "    neglex.append(i.strip())"
   ]
  },
  {
   "cell_type": "code",
   "execution_count": 43,
   "id": "d3f04b3d",
   "metadata": {},
   "outputs": [],
   "source": [
    "positiveCount=[]\n",
    "negativeCount=[]\n",
    "neutralCount=[]\n",
    "for i in range(0,len(rTxt)):\n",
    "    word_tokens = word_tokenize(r_txt[i])\n",
    "    temppos=0\n",
    "    tempneg=0\n",
    "    tempneu=0\n",
    "    for token in word_tokens:\n",
    "        if token not in punctuations:\n",
    "            if token in poslex:\n",
    "                temppos=temppos+1\n",
    "                continue\n",
    "            elif token in neglex:\n",
    "                tempneg=tempneg+1\n",
    "                continue\n",
    "            else:\n",
    "                tempneu=tempneu+1\n",
    "                continue\n",
    "    positiveCount.append(temppos)\n",
    "    negativeCount.append(tempneg)\n",
    "    neutralCount.append(tempneu)"
   ]
  },
  {
   "cell_type": "code",
   "execution_count": 48,
   "id": "6087b546",
   "metadata": {},
   "outputs": [
    {
     "data": {
      "text/html": [
       "<div>\n",
       "<style scoped>\n",
       "    .dataframe tbody tr th:only-of-type {\n",
       "        vertical-align: middle;\n",
       "    }\n",
       "\n",
       "    .dataframe tbody tr th {\n",
       "        vertical-align: top;\n",
       "    }\n",
       "\n",
       "    .dataframe thead th {\n",
       "        text-align: right;\n",
       "    }\n",
       "</style>\n",
       "<table border=\"1\" class=\"dataframe\">\n",
       "  <thead>\n",
       "    <tr style=\"text-align: right;\">\n",
       "      <th></th>\n",
       "      <th>ReviewID</th>\n",
       "      <th>ReviewText</th>\n",
       "      <th>Sentiments</th>\n",
       "      <th>Punctuations</th>\n",
       "      <th>Subjectivity_Score</th>\n",
       "      <th>PositiveCount</th>\n",
       "      <th>NegativeCount</th>\n",
       "      <th>NeutralCount</th>\n",
       "    </tr>\n",
       "  </thead>\n",
       "  <tbody>\n",
       "    <tr>\n",
       "      <th>0</th>\n",
       "      <td>496345724</td>\n",
       "      <td>like hotel , walk distance almost everything ....</td>\n",
       "      <td>1</td>\n",
       "      <td>1</td>\n",
       "      <td>0.683333</td>\n",
       "      <td>8</td>\n",
       "      <td>4</td>\n",
       "      <td>58</td>\n",
       "    </tr>\n",
       "    <tr>\n",
       "      <th>1</th>\n",
       "      <td>63423579</td>\n",
       "      <td>one best place stay around st. john 's , close...</td>\n",
       "      <td>1</td>\n",
       "      <td>0</td>\n",
       "      <td>0.510000</td>\n",
       "      <td>4</td>\n",
       "      <td>0</td>\n",
       "      <td>21</td>\n",
       "    </tr>\n",
       "    <tr>\n",
       "      <th>2</th>\n",
       "      <td>278082769</td>\n",
       "      <td>Stayed 3 day visit LACMA Getty . Great locatio...</td>\n",
       "      <td>1</td>\n",
       "      <td>0</td>\n",
       "      <td>0.572222</td>\n",
       "      <td>4</td>\n",
       "      <td>0</td>\n",
       "      <td>37</td>\n",
       "    </tr>\n",
       "    <tr>\n",
       "      <th>3</th>\n",
       "      <td>157142537</td>\n",
       "      <td>ok hotel great location . Room dark little dat...</td>\n",
       "      <td>1</td>\n",
       "      <td>0</td>\n",
       "      <td>0.643750</td>\n",
       "      <td>3</td>\n",
       "      <td>2</td>\n",
       "      <td>22</td>\n",
       "    </tr>\n",
       "    <tr>\n",
       "      <th>4</th>\n",
       "      <td>280247939</td>\n",
       "      <td>beautiful hotel staff really go way make welco...</td>\n",
       "      <td>1</td>\n",
       "      <td>0</td>\n",
       "      <td>0.621212</td>\n",
       "      <td>6</td>\n",
       "      <td>2</td>\n",
       "      <td>34</td>\n",
       "    </tr>\n",
       "  </tbody>\n",
       "</table>\n",
       "</div>"
      ],
      "text/plain": [
       "    ReviewID                                         ReviewText  Sentiments  \\\n",
       "0  496345724  like hotel , walk distance almost everything ....           1   \n",
       "1   63423579  one best place stay around st. john 's , close...           1   \n",
       "2  278082769  Stayed 3 day visit LACMA Getty . Great locatio...           1   \n",
       "3  157142537  ok hotel great location . Room dark little dat...           1   \n",
       "4  280247939  beautiful hotel staff really go way make welco...           1   \n",
       "\n",
       "   Punctuations  Subjectivity_Score  PositiveCount  NegativeCount  \\\n",
       "0             1            0.683333              8              4   \n",
       "1             0            0.510000              4              0   \n",
       "2             0            0.572222              4              0   \n",
       "3             0            0.643750              3              2   \n",
       "4             0            0.621212              6              2   \n",
       "\n",
       "   NeutralCount  \n",
       "0            58  \n",
       "1            21  \n",
       "2            37  \n",
       "3            22  \n",
       "4            34  "
      ]
     },
     "execution_count": 48,
     "metadata": {},
     "output_type": "execute_result"
    }
   ],
   "source": [
    "# update dataframe and store to excel\n",
    "df.insert(len(df.columns), 'PositiveCount', positiveCount)\n",
    "df.insert(len(df.columns), 'NegativeCount', negativeCount)\n",
    "df.insert(len(df.columns), 'NeutralCount', neutralCount)\n",
    "# store the dataframe to csv\n",
    "df.to_csv('.\\\\features\\\\afterPNN.csv', index=False)\n",
    "df.head()"
   ]
  },
  {
   "cell_type": "markdown",
   "id": "1381de14",
   "metadata": {},
   "source": [
    "### TF-IDF of top 10 recurring words"
   ]
  },
  {
   "cell_type": "code",
   "execution_count": 269,
   "id": "4c3ba67a",
   "metadata": {},
   "outputs": [
    {
     "data": {
      "text/html": [
       "<div>\n",
       "<style scoped>\n",
       "    .dataframe tbody tr th:only-of-type {\n",
       "        vertical-align: middle;\n",
       "    }\n",
       "\n",
       "    .dataframe tbody tr th {\n",
       "        vertical-align: top;\n",
       "    }\n",
       "\n",
       "    .dataframe thead th {\n",
       "        text-align: right;\n",
       "    }\n",
       "</style>\n",
       "<table border=\"1\" class=\"dataframe\">\n",
       "  <thead>\n",
       "    <tr style=\"text-align: right;\">\n",
       "      <th></th>\n",
       "      <th>ReviewID</th>\n",
       "      <th>ReviewText</th>\n",
       "      <th>Sentiments</th>\n",
       "      <th>Punctuations</th>\n",
       "      <th>Subjectivity_Score</th>\n",
       "    </tr>\n",
       "  </thead>\n",
       "  <tbody>\n",
       "    <tr>\n",
       "      <th>0</th>\n",
       "      <td>496345724</td>\n",
       "      <td>like hotel , walk distance almost everything ....</td>\n",
       "      <td>1</td>\n",
       "      <td>1</td>\n",
       "      <td>0.683333</td>\n",
       "    </tr>\n",
       "    <tr>\n",
       "      <th>1</th>\n",
       "      <td>63423579</td>\n",
       "      <td>one best place stay around st. john 's , close...</td>\n",
       "      <td>1</td>\n",
       "      <td>0</td>\n",
       "      <td>0.510000</td>\n",
       "    </tr>\n",
       "    <tr>\n",
       "      <th>2</th>\n",
       "      <td>278082769</td>\n",
       "      <td>Stayed 3 day visit LACMA Getty . Great locatio...</td>\n",
       "      <td>1</td>\n",
       "      <td>0</td>\n",
       "      <td>0.572222</td>\n",
       "    </tr>\n",
       "    <tr>\n",
       "      <th>3</th>\n",
       "      <td>157142537</td>\n",
       "      <td>ok hotel great location . Room dark little dat...</td>\n",
       "      <td>1</td>\n",
       "      <td>0</td>\n",
       "      <td>0.643750</td>\n",
       "    </tr>\n",
       "    <tr>\n",
       "      <th>4</th>\n",
       "      <td>280247939</td>\n",
       "      <td>beautiful hotel staff really go way make welco...</td>\n",
       "      <td>1</td>\n",
       "      <td>0</td>\n",
       "      <td>0.621212</td>\n",
       "    </tr>\n",
       "  </tbody>\n",
       "</table>\n",
       "</div>"
      ],
      "text/plain": [
       "    ReviewID                                         ReviewText  Sentiments  \\\n",
       "0  496345724  like hotel , walk distance almost everything ....           1   \n",
       "1   63423579  one best place stay around st. john 's , close...           1   \n",
       "2  278082769  Stayed 3 day visit LACMA Getty . Great locatio...           1   \n",
       "3  157142537  ok hotel great location . Room dark little dat...           1   \n",
       "4  280247939  beautiful hotel staff really go way make welco...           1   \n",
       "\n",
       "   Punctuations  Subjectivity_Score  \n",
       "0             1            0.683333  \n",
       "1             0            0.510000  \n",
       "2             0            0.572222  \n",
       "3             0            0.643750  \n",
       "4             0            0.621212  "
      ]
     },
     "execution_count": 269,
     "metadata": {},
     "output_type": "execute_result"
    }
   ],
   "source": [
    "df=pd.read_csv('.\\\\features\\\\aftersubjectivity.csv',header='infer')\n",
    "df.head(5)"
   ]
  },
  {
   "cell_type": "code",
   "execution_count": 310,
   "id": "3464c936",
   "metadata": {},
   "outputs": [],
   "source": [
    "d1=df.loc[df['Sentiments']==1] #d1 is positive documnet\n",
    "d2=df.loc[df['Sentiments']==-1] #d2 is negative documnet\n",
    "d3=df.loc[df['Sentiments']==0] #d3 is neutral documnet"
   ]
  },
  {
   "cell_type": "code",
   "execution_count": 277,
   "id": "455f5de6",
   "metadata": {},
   "outputs": [
    {
     "data": {
      "text/plain": [
       "59861"
      ]
     },
     "execution_count": 277,
     "metadata": {},
     "output_type": "execute_result"
    }
   ],
   "source": [
    "pUni=d1['ReviewText'].str.split(' ', expand=True).stack().unique()\n",
    "len(pUni)"
   ]
  },
  {
   "cell_type": "code",
   "execution_count": 278,
   "id": "6386ae19",
   "metadata": {},
   "outputs": [],
   "source": [
    "doc1=[]\n",
    "for i in pUni:\n",
    "    if i not in string.punctuation:\n",
    "        doc1.append(i.lower())"
   ]
  },
  {
   "cell_type": "code",
   "execution_count": 279,
   "id": "4475ffc2",
   "metadata": {},
   "outputs": [
    {
     "name": "stdout",
     "output_type": "stream",
     "text": [
      "59831\n"
     ]
    }
   ],
   "source": [
    "print(len(doc1))"
   ]
  },
  {
   "cell_type": "code",
   "execution_count": 280,
   "id": "2bfa7114",
   "metadata": {},
   "outputs": [
    {
     "data": {
      "text/plain": [
       "17562"
      ]
     },
     "execution_count": 280,
     "metadata": {},
     "output_type": "execute_result"
    }
   ],
   "source": [
    "negUni=d2['ReviewText'].str.split(' ', expand=True).stack().unique()\n",
    "len(negUni)"
   ]
  },
  {
   "cell_type": "code",
   "execution_count": 281,
   "id": "a081acc3",
   "metadata": {},
   "outputs": [],
   "source": [
    "doc2=[]\n",
    "for i in negUni:\n",
    "    if i not in string.punctuation:\n",
    "        doc2.append(i.lower())"
   ]
  },
  {
   "cell_type": "code",
   "execution_count": 282,
   "id": "025d9842",
   "metadata": {},
   "outputs": [
    {
     "name": "stdout",
     "output_type": "stream",
     "text": [
      "17535\n"
     ]
    }
   ],
   "source": [
    "print(len(doc2))"
   ]
  },
  {
   "cell_type": "code",
   "execution_count": 283,
   "id": "76d157e3",
   "metadata": {},
   "outputs": [
    {
     "data": {
      "text/plain": [
       "22848"
      ]
     },
     "execution_count": 283,
     "metadata": {},
     "output_type": "execute_result"
    }
   ],
   "source": [
    "neuUni=d3['ReviewText'].str.split(' ', expand=True).stack().unique()\n",
    "len(neuUni)"
   ]
  },
  {
   "cell_type": "code",
   "execution_count": 284,
   "id": "b8a2273b",
   "metadata": {},
   "outputs": [
    {
     "name": "stdout",
     "output_type": "stream",
     "text": [
      "22818\n"
     ]
    }
   ],
   "source": [
    "doc3=[]\n",
    "for i in neuUni:\n",
    "    if i not in string.punctuation:\n",
    "        doc3.append(i.lower())\n",
    "print(len(doc3))"
   ]
  },
  {
   "cell_type": "code",
   "execution_count": 285,
   "id": "7c8cb3bc",
   "metadata": {},
   "outputs": [],
   "source": [
    "rTxt=df['ReviewText']"
   ]
  },
  {
   "cell_type": "code",
   "execution_count": 286,
   "id": "8d094ccc",
   "metadata": {},
   "outputs": [],
   "source": [
    "# getting top 10 recurring words\n",
    "from itertools import chain\n",
    "unlist=\"\".join(str(i) for i in chain(*rTxt))"
   ]
  },
  {
   "cell_type": "code",
   "execution_count": 21,
   "id": "65487fbb",
   "metadata": {},
   "outputs": [],
   "source": [
    "# define punctuation\n",
    "punctuations = '''!()-[]{};:'\"\\,<>./?@#$%^&*_~'''"
   ]
  },
  {
   "cell_type": "code",
   "execution_count": 288,
   "id": "01297c29",
   "metadata": {},
   "outputs": [
    {
     "name": "stderr",
     "output_type": "stream",
     "text": [
      "IOPub data rate exceeded.\n",
      "The notebook server will temporarily stop sending output\n",
      "to the client in order to avoid crashing it.\n",
      "To change this limit, set the config variable\n",
      "`--NotebookApp.iopub_data_rate_limit`.\n",
      "\n",
      "Current values:\n",
      "NotebookApp.iopub_data_rate_limit=1000000.0 (bytes/sec)\n",
      "NotebookApp.rate_limit_window=3.0 (secs)\n",
      "\n"
     ]
    }
   ],
   "source": [
    "# remove punctuation from the string\n",
    "no_punct = \"\"\n",
    "for char in unlist:\n",
    "   if char not in punctuations:\n",
    "       no_punct = no_punct + char\n",
    "# display the unpunctuated string\n",
    "print(no_punct)"
   ]
  },
  {
   "cell_type": "code",
   "execution_count": 289,
   "id": "b1006470",
   "metadata": {},
   "outputs": [],
   "source": [
    "from collections import Counter\n",
    "word_list = no_punct.split()\n",
    "word_count = Counter(word_list)"
   ]
  },
  {
   "cell_type": "code",
   "execution_count": 449,
   "id": "cccfc341",
   "metadata": {},
   "outputs": [
    {
     "name": "stdout",
     "output_type": "stream",
     "text": [
      "room\n",
      "hotel\n",
      "stay\n",
      "staff\n",
      "good\n",
      "nt\n",
      "great\n",
      "night\n",
      "would\n",
      "clean\n"
     ]
    }
   ],
   "source": [
    "# top 10 recuring words in the dataset\n",
    "a=[]\n",
    "temp=word_count.most_common(10)\n",
    "for i in temp:\n",
    "    print(i[0])\n",
    "    a.append(i[0])\n",
    "# a[5] is nt which means not"
   ]
  },
  {
   "cell_type": "code",
   "execution_count": 306,
   "id": "162496bc",
   "metadata": {},
   "outputs": [],
   "source": [
    "# tf - term frequency\n",
    "# formulae : tf=no of times term t appears in a document/ total number of terms in the document\n",
    "textfile = open(\".\\\\neg.txt\", \"w\", encoding=\"utf-8\")\n",
    "for element in doc2:\n",
    "    textfile.write(element + \"\\n\")\n",
    "textfile.close()"
   ]
  },
  {
   "cell_type": "code",
   "execution_count": 393,
   "id": "8f18f736",
   "metadata": {},
   "outputs": [
    {
     "name": "stdout",
     "output_type": "stream",
     "text": [
      "4\n",
      "5\n",
      "3\n",
      "6\n",
      "3\n",
      "2\n",
      "3\n",
      "3\n",
      "3\n",
      "4\n"
     ]
    }
   ],
   "source": [
    "# for doc1\n",
    "d1=[]\n",
    "for i in a:\n",
    "    print(doc1.count(i))\n",
    "    d1.append(doc1.count(i)/len(doc1))"
   ]
  },
  {
   "cell_type": "code",
   "execution_count": 392,
   "id": "087f6687",
   "metadata": {},
   "outputs": [
    {
     "name": "stdout",
     "output_type": "stream",
     "text": [
      "3\n",
      "3\n",
      "3\n",
      "3\n",
      "3\n",
      "1\n",
      "3\n",
      "3\n",
      "3\n",
      "3\n",
      "[0.00017108639863130882, 0.00017108639863130882, 0.00017108639863130882, 0.00017108639863130882, 0.00017108639863130882, 5.70287995437696e-05, 0.00017108639863130882, 0.00017108639863130882, 0.00017108639863130882, 0.00017108639863130882]\n"
     ]
    }
   ],
   "source": [
    "# for doc2\n",
    "d2=[]\n",
    "for i in a:\n",
    "    print(doc2.count(i))\n",
    "    d2.append(doc2.count(i)/len(doc2))\n",
    "print(d2)"
   ]
  },
  {
   "cell_type": "code",
   "execution_count": 391,
   "id": "2b80be67",
   "metadata": {},
   "outputs": [
    {
     "name": "stdout",
     "output_type": "stream",
     "text": [
      "0.00013147515119642388\n",
      "0.00013147515119642388\n",
      "0.00013147515119642388\n",
      "0.00013147515119642388\n",
      "0.00013147515119642388\n",
      "4.382505039880796e-05\n",
      "0.00013147515119642388\n",
      "0.00013147515119642388\n",
      "0.00013147515119642388\n",
      "0.00013147515119642388\n"
     ]
    }
   ],
   "source": [
    "# for doc3\n",
    "d3=[]\n",
    "for i in a:\n",
    "    temp=doc3.count(i)\n",
    "    temp=temp/len(doc3)\n",
    "    print(temp)\n",
    "    d3.append(temp)"
   ]
  },
  {
   "cell_type": "code",
   "execution_count": 454,
   "id": "d51cb005",
   "metadata": {},
   "outputs": [],
   "source": [
    "tfmat=pd.DataFrame(columns=a)"
   ]
  },
  {
   "cell_type": "code",
   "execution_count": 457,
   "id": "2e4e1298",
   "metadata": {},
   "outputs": [],
   "source": [
    "a_series = pd.Series(d3, index = tfmat.columns)\n",
    "tfmat = tfmat.append(a_series, ignore_index=True)"
   ]
  },
  {
   "cell_type": "code",
   "execution_count": 458,
   "id": "6356e57f",
   "metadata": {},
   "outputs": [],
   "source": [
    "as_list = tfmat.index.tolist()\n",
    "as_list[0] = 'D1'\n",
    "as_list[1] = 'D2'\n",
    "as_list[2] = 'D3'\n",
    "tfmat.index = as_list"
   ]
  },
  {
   "cell_type": "code",
   "execution_count": 459,
   "id": "82ca71c9",
   "metadata": {},
   "outputs": [
    {
     "data": {
      "text/html": [
       "<div>\n",
       "<style scoped>\n",
       "    .dataframe tbody tr th:only-of-type {\n",
       "        vertical-align: middle;\n",
       "    }\n",
       "\n",
       "    .dataframe tbody tr th {\n",
       "        vertical-align: top;\n",
       "    }\n",
       "\n",
       "    .dataframe thead th {\n",
       "        text-align: right;\n",
       "    }\n",
       "</style>\n",
       "<table border=\"1\" class=\"dataframe\">\n",
       "  <thead>\n",
       "    <tr style=\"text-align: right;\">\n",
       "      <th></th>\n",
       "      <th>room</th>\n",
       "      <th>hotel</th>\n",
       "      <th>stay</th>\n",
       "      <th>staff</th>\n",
       "      <th>good</th>\n",
       "      <th>nt</th>\n",
       "      <th>great</th>\n",
       "      <th>night</th>\n",
       "      <th>would</th>\n",
       "      <th>clean</th>\n",
       "    </tr>\n",
       "  </thead>\n",
       "  <tbody>\n",
       "    <tr>\n",
       "      <th>D1</th>\n",
       "      <td>0.000067</td>\n",
       "      <td>0.000084</td>\n",
       "      <td>0.000050</td>\n",
       "      <td>0.000100</td>\n",
       "      <td>0.000050</td>\n",
       "      <td>0.000033</td>\n",
       "      <td>0.000050</td>\n",
       "      <td>0.000050</td>\n",
       "      <td>0.000050</td>\n",
       "      <td>0.000067</td>\n",
       "    </tr>\n",
       "    <tr>\n",
       "      <th>D2</th>\n",
       "      <td>0.000171</td>\n",
       "      <td>0.000171</td>\n",
       "      <td>0.000171</td>\n",
       "      <td>0.000171</td>\n",
       "      <td>0.000171</td>\n",
       "      <td>0.000057</td>\n",
       "      <td>0.000171</td>\n",
       "      <td>0.000171</td>\n",
       "      <td>0.000171</td>\n",
       "      <td>0.000171</td>\n",
       "    </tr>\n",
       "    <tr>\n",
       "      <th>D3</th>\n",
       "      <td>0.000131</td>\n",
       "      <td>0.000131</td>\n",
       "      <td>0.000131</td>\n",
       "      <td>0.000131</td>\n",
       "      <td>0.000131</td>\n",
       "      <td>0.000044</td>\n",
       "      <td>0.000131</td>\n",
       "      <td>0.000131</td>\n",
       "      <td>0.000131</td>\n",
       "      <td>0.000131</td>\n",
       "    </tr>\n",
       "  </tbody>\n",
       "</table>\n",
       "</div>"
      ],
      "text/plain": [
       "        room     hotel      stay     staff      good        nt     great  \\\n",
       "D1  0.000067  0.000084  0.000050  0.000100  0.000050  0.000033  0.000050   \n",
       "D2  0.000171  0.000171  0.000171  0.000171  0.000171  0.000057  0.000171   \n",
       "D3  0.000131  0.000131  0.000131  0.000131  0.000131  0.000044  0.000131   \n",
       "\n",
       "       night     would     clean  \n",
       "D1  0.000050  0.000050  0.000067  \n",
       "D2  0.000171  0.000171  0.000171  \n",
       "D3  0.000131  0.000131  0.000131  "
      ]
     },
     "execution_count": 459,
     "metadata": {},
     "output_type": "execute_result"
    }
   ],
   "source": [
    "tfmat.head()"
   ]
  },
  {
   "cell_type": "code",
   "execution_count": 370,
   "id": "f49e0694",
   "metadata": {},
   "outputs": [],
   "source": [
    "idf1=[]\n",
    "for t in a:\n",
    "    temp=3/3\n",
    "    idf1.append(temp)"
   ]
  },
  {
   "cell_type": "code",
   "execution_count": 476,
   "id": "8d2c2427",
   "metadata": {},
   "outputs": [],
   "source": [
    "idfmat=pd.DataFrame(columns=a)"
   ]
  },
  {
   "cell_type": "code",
   "execution_count": 485,
   "id": "947eb6ed",
   "metadata": {},
   "outputs": [
    {
     "data": {
      "text/html": [
       "<div>\n",
       "<style scoped>\n",
       "    .dataframe tbody tr th:only-of-type {\n",
       "        vertical-align: middle;\n",
       "    }\n",
       "\n",
       "    .dataframe tbody tr th {\n",
       "        vertical-align: top;\n",
       "    }\n",
       "\n",
       "    .dataframe thead th {\n",
       "        text-align: right;\n",
       "    }\n",
       "</style>\n",
       "<table border=\"1\" class=\"dataframe\">\n",
       "  <thead>\n",
       "    <tr style=\"text-align: right;\">\n",
       "      <th></th>\n",
       "      <th>room</th>\n",
       "      <th>hotel</th>\n",
       "      <th>stay</th>\n",
       "      <th>staff</th>\n",
       "      <th>good</th>\n",
       "      <th>nt</th>\n",
       "      <th>great</th>\n",
       "      <th>night</th>\n",
       "      <th>would</th>\n",
       "      <th>clean</th>\n",
       "    </tr>\n",
       "  </thead>\n",
       "  <tbody>\n",
       "    <tr>\n",
       "      <th>D1</th>\n",
       "      <td>0.0</td>\n",
       "      <td>0.0</td>\n",
       "      <td>0.0</td>\n",
       "      <td>0.0</td>\n",
       "      <td>0.0</td>\n",
       "      <td>0.0</td>\n",
       "      <td>0.0</td>\n",
       "      <td>0.0</td>\n",
       "      <td>0.0</td>\n",
       "      <td>0.0</td>\n",
       "    </tr>\n",
       "    <tr>\n",
       "      <th>D2</th>\n",
       "      <td>0.0</td>\n",
       "      <td>0.0</td>\n",
       "      <td>0.0</td>\n",
       "      <td>0.0</td>\n",
       "      <td>0.0</td>\n",
       "      <td>0.0</td>\n",
       "      <td>0.0</td>\n",
       "      <td>0.0</td>\n",
       "      <td>0.0</td>\n",
       "      <td>0.0</td>\n",
       "    </tr>\n",
       "    <tr>\n",
       "      <th>D3</th>\n",
       "      <td>0.0</td>\n",
       "      <td>0.0</td>\n",
       "      <td>0.0</td>\n",
       "      <td>0.0</td>\n",
       "      <td>0.0</td>\n",
       "      <td>0.0</td>\n",
       "      <td>0.0</td>\n",
       "      <td>0.0</td>\n",
       "      <td>0.0</td>\n",
       "      <td>0.0</td>\n",
       "    </tr>\n",
       "  </tbody>\n",
       "</table>\n",
       "</div>"
      ],
      "text/plain": [
       "    room  hotel  stay  staff  good   nt  great  night  would  clean\n",
       "D1   0.0    0.0   0.0    0.0   0.0  0.0    0.0    0.0    0.0    0.0\n",
       "D2   0.0    0.0   0.0    0.0   0.0  0.0    0.0    0.0    0.0    0.0\n",
       "D3   0.0    0.0   0.0    0.0   0.0  0.0    0.0    0.0    0.0    0.0"
      ]
     },
     "execution_count": 485,
     "metadata": {},
     "output_type": "execute_result"
    }
   ],
   "source": [
    "idfmat.head()"
   ]
  },
  {
   "cell_type": "code",
   "execution_count": 484,
   "id": "32d5cecb",
   "metadata": {},
   "outputs": [],
   "source": [
    "as_list = idfmat.index.tolist()\n",
    "as_list[0] = 'D1'\n",
    "as_list[1] = 'D2'\n",
    "as_list[2] = 'D3'\n",
    "idfmat.index = as_list"
   ]
  },
  {
   "cell_type": "code",
   "execution_count": 496,
   "id": "0b1c0d53",
   "metadata": {},
   "outputs": [],
   "source": [
    "l1=[]\n",
    "l2=[]\n",
    "l3=[]\n",
    "for i in a:\n",
    "    if i in doc1 and i in doc2 and i in doc3:\n",
    "        l1.append(np.log10(3/3))\n",
    "        l2.append(np.log2(3/3))\n",
    "        l3.append(np.log2(3/3))"
   ]
  },
  {
   "cell_type": "code",
   "execution_count": 480,
   "id": "98167dc5",
   "metadata": {},
   "outputs": [],
   "source": [
    "a_series = pd.Series(l3, index = idfmat.columns)\n",
    "idfmat = idfmat.append(a_series, ignore_index=True)"
   ]
  },
  {
   "cell_type": "code",
   "execution_count": null,
   "id": "c59b59f4",
   "metadata": {},
   "outputs": [],
   "source": [
    "# tf idf matrix"
   ]
  },
  {
   "cell_type": "code",
   "execution_count": 497,
   "id": "71d0d6ff",
   "metadata": {},
   "outputs": [
    {
     "name": "stdout",
     "output_type": "stream",
     "text": [
      "[0.0, 0.0, 0.0, 0.0, 0.0, 0.0, 0.0, 0.0, 0.0, 0.0]\n"
     ]
    }
   ],
   "source": [
    "sum=[]\n",
    "for i in range(0,len(d1)):\n",
    "    sum.append(d1[i]*l1[i])\n",
    "print(sum)"
   ]
  },
  {
   "cell_type": "code",
   "execution_count": 511,
   "id": "46224f26",
   "metadata": {},
   "outputs": [
    {
     "data": {
      "text/html": [
       "<div>\n",
       "<style scoped>\n",
       "    .dataframe tbody tr th:only-of-type {\n",
       "        vertical-align: middle;\n",
       "    }\n",
       "\n",
       "    .dataframe tbody tr th {\n",
       "        vertical-align: top;\n",
       "    }\n",
       "\n",
       "    .dataframe thead th {\n",
       "        text-align: right;\n",
       "    }\n",
       "</style>\n",
       "<table border=\"1\" class=\"dataframe\">\n",
       "  <thead>\n",
       "    <tr style=\"text-align: right;\">\n",
       "      <th></th>\n",
       "      <th>room</th>\n",
       "      <th>hotel</th>\n",
       "      <th>stay</th>\n",
       "      <th>staff</th>\n",
       "      <th>good</th>\n",
       "      <th>nt</th>\n",
       "      <th>great</th>\n",
       "      <th>night</th>\n",
       "      <th>would</th>\n",
       "      <th>clean</th>\n",
       "    </tr>\n",
       "  </thead>\n",
       "  <tbody>\n",
       "  </tbody>\n",
       "</table>\n",
       "</div>"
      ],
      "text/plain": [
       "Empty DataFrame\n",
       "Columns: [room, hotel, stay, staff, good, nt, great, night, would, clean]\n",
       "Index: []"
      ]
     },
     "execution_count": 511,
     "metadata": {},
     "output_type": "execute_result"
    }
   ],
   "source": [
    "tfidf=pd.DataFrame(columns=a)"
   ]
  },
  {
   "cell_type": "code",
   "execution_count": 518,
   "id": "51ebe60c",
   "metadata": {},
   "outputs": [
    {
     "data": {
      "text/html": [
       "<div>\n",
       "<style scoped>\n",
       "    .dataframe tbody tr th:only-of-type {\n",
       "        vertical-align: middle;\n",
       "    }\n",
       "\n",
       "    .dataframe tbody tr th {\n",
       "        vertical-align: top;\n",
       "    }\n",
       "\n",
       "    .dataframe thead th {\n",
       "        text-align: right;\n",
       "    }\n",
       "</style>\n",
       "<table border=\"1\" class=\"dataframe\">\n",
       "  <thead>\n",
       "    <tr style=\"text-align: right;\">\n",
       "      <th></th>\n",
       "      <th>room</th>\n",
       "      <th>hotel</th>\n",
       "      <th>stay</th>\n",
       "      <th>staff</th>\n",
       "      <th>good</th>\n",
       "      <th>nt</th>\n",
       "      <th>great</th>\n",
       "      <th>night</th>\n",
       "      <th>would</th>\n",
       "      <th>clean</th>\n",
       "    </tr>\n",
       "  </thead>\n",
       "  <tbody>\n",
       "    <tr>\n",
       "      <th>D1</th>\n",
       "      <td>0.0</td>\n",
       "      <td>0.0</td>\n",
       "      <td>0.0</td>\n",
       "      <td>0.0</td>\n",
       "      <td>0.0</td>\n",
       "      <td>0.0</td>\n",
       "      <td>0.0</td>\n",
       "      <td>0.0</td>\n",
       "      <td>0.0</td>\n",
       "      <td>0.0</td>\n",
       "    </tr>\n",
       "    <tr>\n",
       "      <th>D2</th>\n",
       "      <td>0.0</td>\n",
       "      <td>0.0</td>\n",
       "      <td>0.0</td>\n",
       "      <td>0.0</td>\n",
       "      <td>0.0</td>\n",
       "      <td>0.0</td>\n",
       "      <td>0.0</td>\n",
       "      <td>0.0</td>\n",
       "      <td>0.0</td>\n",
       "      <td>0.0</td>\n",
       "    </tr>\n",
       "    <tr>\n",
       "      <th>D3</th>\n",
       "      <td>0.0</td>\n",
       "      <td>0.0</td>\n",
       "      <td>0.0</td>\n",
       "      <td>0.0</td>\n",
       "      <td>0.0</td>\n",
       "      <td>0.0</td>\n",
       "      <td>0.0</td>\n",
       "      <td>0.0</td>\n",
       "      <td>0.0</td>\n",
       "      <td>0.0</td>\n",
       "    </tr>\n",
       "  </tbody>\n",
       "</table>\n",
       "</div>"
      ],
      "text/plain": [
       "    room  hotel  stay  staff  good   nt  great  night  would  clean\n",
       "D1   0.0    0.0   0.0    0.0   0.0  0.0    0.0    0.0    0.0    0.0\n",
       "D2   0.0    0.0   0.0    0.0   0.0  0.0    0.0    0.0    0.0    0.0\n",
       "D3   0.0    0.0   0.0    0.0   0.0  0.0    0.0    0.0    0.0    0.0"
      ]
     },
     "execution_count": 518,
     "metadata": {},
     "output_type": "execute_result"
    }
   ],
   "source": [
    "tfidf.head()"
   ]
  },
  {
   "cell_type": "code",
   "execution_count": 515,
   "id": "f1b5c4d7",
   "metadata": {},
   "outputs": [],
   "source": [
    "a_series = pd.Series(sum, index = tfidf.columns)\n",
    "tfidf = tfidf.append(a_series, ignore_index=True)"
   ]
  },
  {
   "cell_type": "code",
   "execution_count": 517,
   "id": "780fec60",
   "metadata": {},
   "outputs": [],
   "source": [
    "as_list = tfidf.index.tolist()\n",
    "as_list[0] = 'D1'\n",
    "as_list[1] = 'D2'\n",
    "as_list[2] = 'D3'\n",
    "tfidf.index = as_list"
   ]
  },
  {
   "cell_type": "code",
   "execution_count": 519,
   "id": "2749c19a",
   "metadata": {},
   "outputs": [],
   "source": [
    "tfidf.to_csv('.\\\\features\\\\tfidf.csv', index=False)"
   ]
  }
 ],
 "metadata": {
  "kernelspec": {
   "display_name": "Python 3",
   "language": "python",
   "name": "python3"
  },
  "language_info": {
   "codemirror_mode": {
    "name": "ipython",
    "version": 3
   },
   "file_extension": ".py",
   "mimetype": "text/x-python",
   "name": "python",
   "nbconvert_exporter": "python",
   "pygments_lexer": "ipython3",
   "version": "3.8.8"
  }
 },
 "nbformat": 4,
 "nbformat_minor": 5
}
