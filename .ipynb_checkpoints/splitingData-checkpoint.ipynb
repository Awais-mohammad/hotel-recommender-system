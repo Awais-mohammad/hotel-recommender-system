{
 "cells": [
  {
   "cell_type": "code",
   "execution_count": 1,
   "id": "be45dbbb",
   "metadata": {},
   "outputs": [],
   "source": [
    "import pandas as pd"
   ]
  },
  {
   "cell_type": "code",
   "execution_count": 8,
   "id": "49552ef1",
   "metadata": {},
   "outputs": [],
   "source": [
    "import os\n",
    "df=pd.read_csv('.\\\\Processed\\\\Sentiments.csv',header='infer')"
   ]
  },
  {
   "cell_type": "code",
   "execution_count": 31,
   "id": "dec7fd7d",
   "metadata": {},
   "outputs": [],
   "source": [
    "# divide data in frames\n",
    "def split_Data(frameName,val):\n",
    "    print(frameName,val)\n",
    "    frame=df.loc[df['Sentiments'] == val]\n",
    "    frame.to_csv('.\\\\Processed\\\\Split_Data\\\\' + frameName + '.csv',index=False)\n",
    "    print('frame named',frameName,' created and added to file',frameName+'.csv -- val was',val)"
   ]
  },
  {
   "cell_type": "code",
   "execution_count": 35,
   "id": "851cf2f2",
   "metadata": {},
   "outputs": [
    {
     "name": "stdout",
     "output_type": "stream",
     "text": [
      "neutral 0\n",
      "frame named neutral  created and added to file neutral.csv -- val was 0\n"
     ]
    }
   ],
   "source": [
    "# positve frame\n",
    "# split_Data('positive',1)\n",
    "# negative frame\n",
    "# split_Data('negative',-1)\n",
    "# neutral frame\n",
    "split_Data('neutral',0)"
   ]
  },
  {
   "cell_type": "markdown",
   "id": "35280217",
   "metadata": {},
   "source": [
    "### Reading Frames and Processing "
   ]
  },
  {
   "cell_type": "code",
   "execution_count": 38,
   "id": "b3f2c6ac",
   "metadata": {},
   "outputs": [],
   "source": [
    "pFrame=pd.read_csv('.\\\\Processed\\\\Split_Data\\\\positive.csv',header='infer')"
   ]
  },
  {
   "cell_type": "code",
   "execution_count": 42,
   "id": "e5075fe3",
   "metadata": {},
   "outputs": [
    {
     "data": {
      "text/plain": [
       "32717"
      ]
     },
     "execution_count": 42,
     "metadata": {},
     "output_type": "execute_result"
    }
   ],
   "source": [
    "newFrame = pFrame.sample(frac=0.70)\n",
    "len(newFrame)"
   ]
  },
  {
   "cell_type": "code",
   "execution_count": 48,
   "id": "3516449f",
   "metadata": {},
   "outputs": [
    {
     "data": {
      "text/plain": [
       "890"
      ]
     },
     "execution_count": 48,
     "metadata": {},
     "output_type": "execute_result"
    }
   ],
   "source": [
    "nFrame=pd.read_csv('.\\\\Processed\\\\Split_Data\\\\negative.csv',header='infer')\n",
    "newNFrame = nFrame.sample(frac=0.20)\n",
    "len(newNFrame)\n",
    "len(newNFrame)"
   ]
  }
 ],
 "metadata": {
  "kernelspec": {
   "display_name": "Python 3",
   "language": "python",
   "name": "python3"
  },
  "language_info": {
   "codemirror_mode": {
    "name": "ipython",
    "version": 3
   },
   "file_extension": ".py",
   "mimetype": "text/x-python",
   "name": "python",
   "nbconvert_exporter": "python",
   "pygments_lexer": "ipython3",
   "version": "3.8.8"
  }
 },
 "nbformat": 4,
 "nbformat_minor": 5
}
