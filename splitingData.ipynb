{
 "cells": [
  {
   "cell_type": "code",
   "execution_count": 19,
   "id": "be45dbbb",
   "metadata": {},
   "outputs": [],
   "source": [
    "import pandas as pd"
   ]
  },
  {
   "cell_type": "code",
   "execution_count": 36,
   "id": "43dfd7fd",
   "metadata": {},
   "outputs": [
    {
     "data": {
      "text/plain": [
       "['Afterampentity.csv',\n",
       " 'AfterLemitization.csv',\n",
       " 'AfterNumer.csv',\n",
       " 'AfterPascalCase.csv',\n",
       " 'AfterPOS.csv',\n",
       " 'AfterStopWords.csv',\n",
       " 'Sentiments.csv',\n",
       " 'Split_Data']"
      ]
     },
     "execution_count": 36,
     "metadata": {},
     "output_type": "execute_result"
    }
   ],
   "source": [
    "import os\n",
    "os.listdir('.\\\\Processed')"
   ]
  },
  {
   "cell_type": "code",
   "execution_count": 37,
   "id": "49552ef1",
   "metadata": {},
   "outputs": [],
   "source": [
    "df=pd.read_csv('.\\\\Processed\\\\Afterampentity.csv',header='infer')"
   ]
  },
  {
   "cell_type": "code",
   "execution_count": 38,
   "id": "1db5540a",
   "metadata": {},
   "outputs": [
    {
     "data": {
      "text/plain": [
       "58612"
      ]
     },
     "execution_count": 38,
     "metadata": {},
     "output_type": "execute_result"
    }
   ],
   "source": [
    "len(df)"
   ]
  },
  {
   "cell_type": "code",
   "execution_count": 39,
   "id": "066fb9d7",
   "metadata": {},
   "outputs": [
    {
     "data": {
      "text/html": [
       "<div>\n",
       "<style scoped>\n",
       "    .dataframe tbody tr th:only-of-type {\n",
       "        vertical-align: middle;\n",
       "    }\n",
       "\n",
       "    .dataframe tbody tr th {\n",
       "        vertical-align: top;\n",
       "    }\n",
       "\n",
       "    .dataframe thead th {\n",
       "        text-align: right;\n",
       "    }\n",
       "</style>\n",
       "<table border=\"1\" class=\"dataframe\">\n",
       "  <thead>\n",
       "    <tr style=\"text-align: right;\">\n",
       "      <th></th>\n",
       "      <th>ReviewID</th>\n",
       "      <th>ReviewText</th>\n",
       "      <th>Sentiments</th>\n",
       "    </tr>\n",
       "  </thead>\n",
       "  <tbody>\n",
       "    <tr>\n",
       "      <th>0</th>\n",
       "      <td>407380226</td>\n",
       "      <td>premise peaceful well maintain . apartment spa...</td>\n",
       "      <td>1</td>\n",
       "    </tr>\n",
       "    <tr>\n",
       "      <th>1</th>\n",
       "      <td>337083244</td>\n",
       "      <td>5 min drive Pisa need catch Bus , far walk.Bea...</td>\n",
       "      <td>0</td>\n",
       "    </tr>\n",
       "    <tr>\n",
       "      <th>2</th>\n",
       "      <td>297292721</td>\n",
       "      <td>family 5 stay residence San Rossore 8 night . ...</td>\n",
       "      <td>1</td>\n",
       "    </tr>\n",
       "    <tr>\n",
       "      <th>3</th>\n",
       "      <td>225898866</td>\n",
       "      <td>stay couple night way Tuscany &amp; ; need somewhe...</td>\n",
       "      <td>1</td>\n",
       "    </tr>\n",
       "    <tr>\n",
       "      <th>4</th>\n",
       "      <td>165676171</td>\n",
       "      <td>accomodation simple adequate . Spotlessly clea...</td>\n",
       "      <td>1</td>\n",
       "    </tr>\n",
       "    <tr>\n",
       "      <th>5</th>\n",
       "      <td>140136860</td>\n",
       "      <td>book accomodation group six people stay Pisa c...</td>\n",
       "      <td>1</td>\n",
       "    </tr>\n",
       "    <tr>\n",
       "      <th>6</th>\n",
       "      <td>116973608</td>\n",
       "      <td>Hostel pretty good location , 15 min walk airp...</td>\n",
       "      <td>-1</td>\n",
       "    </tr>\n",
       "    <tr>\n",
       "      <th>7</th>\n",
       "      <td>110947906</td>\n",
       "      <td>travel around , spend one night Station Pisa h...</td>\n",
       "      <td>0</td>\n",
       "    </tr>\n",
       "    <tr>\n",
       "      <th>8</th>\n",
       "      <td>93875484</td>\n",
       "      <td>place clean staff friendly three big minus : 1...</td>\n",
       "      <td>-1</td>\n",
       "    </tr>\n",
       "    <tr>\n",
       "      <th>9</th>\n",
       "      <td>70364149</td>\n",
       "      <td>love place - charm &amp; quot ; Adonis &amp; quot ; Ca...</td>\n",
       "      <td>1</td>\n",
       "    </tr>\n",
       "  </tbody>\n",
       "</table>\n",
       "</div>"
      ],
      "text/plain": [
       "    ReviewID                                         ReviewText  Sentiments\n",
       "0  407380226  premise peaceful well maintain . apartment spa...           1\n",
       "1  337083244  5 min drive Pisa need catch Bus , far walk.Bea...           0\n",
       "2  297292721  family 5 stay residence San Rossore 8 night . ...           1\n",
       "3  225898866  stay couple night way Tuscany & ; need somewhe...           1\n",
       "4  165676171  accomodation simple adequate . Spotlessly clea...           1\n",
       "5  140136860  book accomodation group six people stay Pisa c...           1\n",
       "6  116973608  Hostel pretty good location , 15 min walk airp...          -1\n",
       "7  110947906  travel around , spend one night Station Pisa h...           0\n",
       "8   93875484  place clean staff friendly three big minus : 1...          -1\n",
       "9   70364149  love place - charm & quot ; Adonis & quot ; Ca...           1"
      ]
     },
     "execution_count": 39,
     "metadata": {},
     "output_type": "execute_result"
    }
   ],
   "source": [
    "df.head(10)"
   ]
  },
  {
   "cell_type": "code",
   "execution_count": 40,
   "id": "dec7fd7d",
   "metadata": {},
   "outputs": [],
   "source": [
    "# divide data in frames\n",
    "def split_Data(frameName,val):\n",
    "    print(frameName,val)\n",
    "    frame=df.loc[df['Sentiments'] == val]\n",
    "    frame.to_csv('.\\\\Processed\\\\Split_Data\\\\' + frameName + '.csv',index=False)\n",
    "    print('frame named',frameName,' created and added to file',frameName+'.csv -- val was',val)"
   ]
  },
  {
   "cell_type": "code",
   "execution_count": 41,
   "id": "851cf2f2",
   "metadata": {},
   "outputs": [
    {
     "name": "stdout",
     "output_type": "stream",
     "text": [
      "positive 1\n",
      "frame named positive  created and added to file positive.csv -- val was 1\n",
      "negative -1\n",
      "frame named negative  created and added to file negative.csv -- val was -1\n",
      "neutral 0\n",
      "frame named neutral  created and added to file neutral.csv -- val was 0\n"
     ]
    }
   ],
   "source": [
    "# positve frame\n",
    "split_Data('positive',1)\n",
    "# negative frame\n",
    "split_Data('negative',-1)\n",
    "# neutral frame\n",
    "split_Data('neutral',0)"
   ]
  },
  {
   "cell_type": "markdown",
   "id": "35280217",
   "metadata": {},
   "source": [
    "### Reading Frames and Processing "
   ]
  },
  {
   "cell_type": "code",
   "execution_count": 42,
   "id": "b3f2c6ac",
   "metadata": {},
   "outputs": [],
   "source": [
    "pFrame=pd.read_csv('.\\\\Processed\\\\Split_Data\\\\positive.csv',header='infer')"
   ]
  },
  {
   "cell_type": "code",
   "execution_count": 43,
   "id": "96c24c73",
   "metadata": {},
   "outputs": [
    {
     "data": {
      "text/plain": [
       "46738"
      ]
     },
     "execution_count": 43,
     "metadata": {},
     "output_type": "execute_result"
    }
   ],
   "source": [
    "len(pFrame)"
   ]
  },
  {
   "cell_type": "code",
   "execution_count": 44,
   "id": "3516449f",
   "metadata": {},
   "outputs": [
    {
     "data": {
      "text/plain": [
       "4451"
      ]
     },
     "execution_count": 44,
     "metadata": {},
     "output_type": "execute_result"
    }
   ],
   "source": [
    "nFrame=pd.read_csv('.\\\\Processed\\\\Split_Data\\\\negative.csv',header='infer')\n",
    "len(nFrame)"
   ]
  },
  {
   "cell_type": "code",
   "execution_count": 45,
   "id": "82e5faa0",
   "metadata": {},
   "outputs": [],
   "source": [
    "neutralFrame=pd.read_csv('.\\\\Processed\\\\Split_Data\\\\neutral.csv',header='infer')"
   ]
  },
  {
   "cell_type": "code",
   "execution_count": 46,
   "id": "9fa505db",
   "metadata": {},
   "outputs": [
    {
     "name": "stdout",
     "output_type": "stream",
     "text": [
      "7423 + 46738 + 4451 = 58612\n"
     ]
    }
   ],
   "source": [
    "print(len(neutralFrame),'+',len(pFrame),'+',len(nFrame),'=',len(neutralFrame)+len(pFrame)+len(nFrame))"
   ]
  },
  {
   "cell_type": "code",
   "execution_count": 47,
   "id": "6ac78045",
   "metadata": {},
   "outputs": [
    {
     "name": "stdout",
     "output_type": "stream",
     "text": [
      "32716 + 3116 + 5196 + 41028\n"
     ]
    }
   ],
   "source": [
    "pTrain=pFrame.sample(n=32716)\n",
    "negTrain=nFrame.sample(n=3116)\n",
    "neuTrain=neutralFrame.sample(n=5196)\n",
    "print(len(pTrain),'+',len(negTrain),'+',len(neuTrain),'+',len(pTrain)+len(negTrain)+len(neuTrain))"
   ]
  },
  {
   "cell_type": "code",
   "execution_count": 48,
   "id": "2c9578fb",
   "metadata": {},
   "outputs": [
    {
     "name": "stdout",
     "output_type": "stream",
     "text": [
      "Stored training set to storage\n"
     ]
    }
   ],
   "source": [
    "trainSet=pd.concat([pTrain,negTrain,neuTrain])\n",
    "len(trainSet)\n",
    "trainSet.to_csv('.\\\\Processed\\\\Split_Data\\\\Splitted\\\\train.csv',index=False)\n",
    "print('Stored training set to storage')"
   ]
  },
  {
   "cell_type": "code",
   "execution_count": 49,
   "id": "8e542893",
   "metadata": {},
   "outputs": [
    {
     "data": {
      "text/plain": [
       "41028"
      ]
     },
     "execution_count": 49,
     "metadata": {},
     "output_type": "execute_result"
    }
   ],
   "source": [
    "check=pd.read_csv('.\\\\Processed\\\\Split_Data\\\\Splitted\\\\train.csv')\n",
    "len(check)"
   ]
  },
  {
   "cell_type": "code",
   "execution_count": 51,
   "id": "5e9f9a96",
   "metadata": {},
   "outputs": [
    {
     "data": {
      "text/plain": [
       "14022"
      ]
     },
     "execution_count": 51,
     "metadata": {},
     "output_type": "execute_result"
    }
   ],
   "source": [
    "leftOver=pd.concat([trainSet,pFrame,negTrain,neuTrain]).drop_duplicates(keep=False)\n",
    "len(leftOver)"
   ]
  },
  {
   "cell_type": "code",
   "execution_count": null,
   "id": "7a45097a",
   "metadata": {},
   "outputs": [],
   "source": [
    "### =-=-=-=-=creating validate set=-=-=-=-=-="
   ]
  },
  {
   "cell_type": "code",
   "execution_count": 52,
   "id": "629d2d4b",
   "metadata": {},
   "outputs": [
    {
     "name": "stdout",
     "output_type": "stream",
     "text": [
      "11323 + 922 + 1777 = 14022\n"
     ]
    }
   ],
   "source": [
    "vps=leftOver.loc[df['Sentiments'] == 1]\n",
    "vnegs=leftOver.loc[df['Sentiments'] == -1]\n",
    "vneus=leftOver.loc[df['Sentiments'] == 0]\n",
    "print(len(vps),'+',len(vnegs),'+',len(vneus),'=',len(vps)+len(vnegs)+len(vneus))"
   ]
  },
  {
   "cell_type": "code",
   "execution_count": 53,
   "id": "a6d0748e",
   "metadata": {},
   "outputs": [
    {
     "name": "stdout",
     "output_type": "stream",
     "text": [
      "9348 + 890 + 1485 + 11723\n"
     ]
    }
   ],
   "source": [
    "pTrain=vps.sample(n=9348)\n",
    "negTrain=vnegs.sample(n=890)\n",
    "neuTrain=vneus.sample(n=1485)\n",
    "print(len(pTrain),'+',len(negTrain),'+',len(neuTrain),'+',len(pTrain)+len(negTrain)+len(neuTrain))"
   ]
  },
  {
   "cell_type": "code",
   "execution_count": 54,
   "id": "e8ad207b",
   "metadata": {},
   "outputs": [
    {
     "name": "stdout",
     "output_type": "stream",
     "text": [
      "11723\n",
      "Stored validate set to storage\n"
     ]
    }
   ],
   "source": [
    "# storing validate set \n",
    "validateSet=pd.concat([pTrain,negTrain,neuTrain])\n",
    "print(len(validateSet))\n",
    "validateSet.to_csv('.\\\\Processed\\\\Split_Data\\\\Splitted\\\\validate.csv',index=False)\n",
    "print('Stored validate set to storage')"
   ]
  },
  {
   "cell_type": "code",
   "execution_count": 55,
   "id": "04a07420",
   "metadata": {},
   "outputs": [
    {
     "data": {
      "text/plain": [
       "41022"
      ]
     },
     "execution_count": 55,
     "metadata": {},
     "output_type": "execute_result"
    }
   ],
   "source": [
    "leftOver=pd.concat([validateSet,pTrain,negTrain,neuTrain,trainSet]).drop_duplicates(keep=False)\n",
    "len(leftOver)"
   ]
  },
  {
   "cell_type": "code",
   "execution_count": 239,
   "id": "ea50fbde",
   "metadata": {},
   "outputs": [],
   "source": [
    "### -=-=-=-=-= creating test set =-=-=-=-=-=-"
   ]
  },
  {
   "cell_type": "code",
   "execution_count": 56,
   "id": "55700cc5",
   "metadata": {},
   "outputs": [
    {
     "name": "stdout",
     "output_type": "stream",
     "text": [
      "33391 + 2507 + 5124 = 41022\n"
     ]
    }
   ],
   "source": [
    "tps=leftOver.loc[df['Sentiments'] == 1]\n",
    "tnegs=leftOver.loc[df['Sentiments'] == -1]\n",
    "tneus=leftOver.loc[df['Sentiments'] == 0]\n",
    "print(len(tps),'+',len(tnegs),'+',len(tneus),'=',len(tps)+len(tnegs)+len(tneus))"
   ]
  },
  {
   "cell_type": "code",
   "execution_count": 57,
   "id": "ca10fd68",
   "metadata": {},
   "outputs": [
    {
     "name": "stdout",
     "output_type": "stream",
     "text": [
      "4674 + 445 + 1485 + 5861\n"
     ]
    }
   ],
   "source": [
    "ftpos=tps.sample(n=4674)\n",
    "ftneg=tnegs.sample(n=445)\n",
    "ftneut=tneus.sample(n=742)\n",
    "print(len(ftpos),'+',len(ftneg),'+',len(neuTrain),'+',len(ftpos)+len(ftneg)+len(ftneut))"
   ]
  },
  {
   "cell_type": "code",
   "execution_count": 58,
   "id": "b7489772",
   "metadata": {},
   "outputs": [
    {
     "name": "stdout",
     "output_type": "stream",
     "text": [
      "5861\n",
      "Stored test set to storage\n"
     ]
    }
   ],
   "source": [
    "# storing test set \n",
    "test=pd.concat([ftpos,ftneg,ftneut])\n",
    "print(len(test))\n",
    "test.to_csv('.\\\\Processed\\\\Split_Data\\\\Splitted\\\\test.csv',index=False)\n",
    "print('Stored test set to storage')"
   ]
  }
 ],
 "metadata": {
  "kernelspec": {
   "display_name": "Python 3",
   "language": "python",
   "name": "python3"
  },
  "language_info": {
   "codemirror_mode": {
    "name": "ipython",
    "version": 3
   },
   "file_extension": ".py",
   "mimetype": "text/x-python",
   "name": "python",
   "nbconvert_exporter": "python",
   "pygments_lexer": "ipython3",
   "version": "3.8.8"
  }
 },
 "nbformat": 4,
 "nbformat_minor": 5
}
