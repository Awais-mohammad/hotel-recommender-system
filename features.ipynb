{
 "cells": [
  {
   "cell_type": "code",
   "execution_count": 56,
   "id": "35a1d34f",
   "metadata": {},
   "outputs": [],
   "source": [
    "# libraries\n",
    "import pandas as pd\n",
    "import string\n",
    "from sklearn.feature_extraction.text import TfidfVectorizer,CountVectorizer\n",
    "from scipy.sparse import csc_matrix"
   ]
  },
  {
   "cell_type": "code",
   "execution_count": 88,
   "id": "474626ac",
   "metadata": {},
   "outputs": [],
   "source": [
    "df=pd.read_csv('.\\\\processed\\\\Afterampentity.csv',low_memory=False)"
   ]
  },
  {
   "cell_type": "code",
   "execution_count": 89,
   "id": "9686c048",
   "metadata": {},
   "outputs": [],
   "source": [
    "rTxt=df.iloc[:,1]"
   ]
  },
  {
   "cell_type": "code",
   "execution_count": 90,
   "id": "4d4df5aa",
   "metadata": {},
   "outputs": [
    {
     "name": "stdout",
     "output_type": "stream",
     "text": [
      "58612\n"
     ]
    }
   ],
   "source": [
    "print(len(rTxt))"
   ]
  },
  {
   "cell_type": "code",
   "execution_count": 108,
   "id": "29513787",
   "metadata": {},
   "outputs": [],
   "source": [
    "a=['Hello awais : how ! are ? yo:u:::??','Hello bro : how ! are ? you?!$$?','dhfoishfo']"
   ]
  },
  {
   "cell_type": "code",
   "execution_count": 33,
   "id": "2beff747",
   "metadata": {},
   "outputs": [],
   "source": [
    "import numpy as np"
   ]
  },
  {
   "cell_type": "code",
   "execution_count": 12,
   "id": "1ca0faa2",
   "metadata": {},
   "outputs": [],
   "source": [
    "## count=0\n",
    "finalcount=[]\n",
    "for i in range(0,len(rTxt)):\n",
    "    newcount=[]\n",
    "    count=0\n",
    "    for j in range(0,len(rTxt[i])):\n",
    "        if rTxt[i][j] == ':' or rTxt[i][j] == '!' or rTxt[i][j] == '?':\n",
    "            count=count+1\n",
    "    finalcount.append(count)\n",
    "# \n",
    "# for i in a:\n",
    "#     if i == ':' or i == '!' or i == '?':\n",
    "#         count=count+1"
   ]
  },
  {
   "cell_type": "code",
   "execution_count": 102,
   "id": "8e2f3c5b",
   "metadata": {},
   "outputs": [
    {
     "data": {
      "text/plain": [
       "58612"
      ]
     },
     "execution_count": 102,
     "metadata": {},
     "output_type": "execute_result"
    }
   ],
   "source": [
    "# df.insert(len(df.columns), 'Punctuations', finalcount)\n",
    "# df.insert(len(df.columns), 'Punctuations', finalcount)\n",
    "df.drop('Subjectivity_Score', axis=1, inplace=True)\n",
    "# # name=df.iloc[:,3]\n",
    "# df.head()\n",
    "len(df)"
   ]
  },
  {
   "cell_type": "code",
   "execution_count": 97,
   "id": "8ed5c412",
   "metadata": {},
   "outputs": [
    {
     "name": "stdout",
     "output_type": "stream",
     "text": [
      "removed col and added it back in\n"
     ]
    }
   ],
   "source": [
    "df.to_csv('.\\\\features\\\\afterPunctuations.csv', index=False)\n",
    "print('removed col and added it back in')"
   ]
  },
  {
   "cell_type": "markdown",
   "id": "ffbf4ab3",
   "metadata": {},
   "source": [
    "### Subjectivity Score "
   ]
  },
  {
   "cell_type": "code",
   "execution_count": 80,
   "id": "f64296c3",
   "metadata": {},
   "outputs": [],
   "source": [
    "df=pd.read_csv('.\\\\processed\\\\updatedSentiments.csv',low_memory=False)"
   ]
  },
  {
   "cell_type": "code",
   "execution_count": 69,
   "id": "68c925e6",
   "metadata": {},
   "outputs": [
    {
     "data": {
      "text/html": [
       "<div>\n",
       "<style scoped>\n",
       "    .dataframe tbody tr th:only-of-type {\n",
       "        vertical-align: middle;\n",
       "    }\n",
       "\n",
       "    .dataframe tbody tr th {\n",
       "        vertical-align: top;\n",
       "    }\n",
       "\n",
       "    .dataframe thead th {\n",
       "        text-align: right;\n",
       "    }\n",
       "</style>\n",
       "<table border=\"1\" class=\"dataframe\">\n",
       "  <thead>\n",
       "    <tr style=\"text-align: right;\">\n",
       "      <th></th>\n",
       "      <th>ReviewID</th>\n",
       "      <th>ReviewText</th>\n",
       "      <th>Sentiments</th>\n",
       "    </tr>\n",
       "  </thead>\n",
       "  <tbody>\n",
       "    <tr>\n",
       "      <th>0</th>\n",
       "      <td>407380226</td>\n",
       "      <td>The premises are very peaceful and well mainta...</td>\n",
       "      <td>1</td>\n",
       "    </tr>\n",
       "    <tr>\n",
       "      <th>1</th>\n",
       "      <td>337083244</td>\n",
       "      <td>5 min drive out of Pisa or you need to catch t...</td>\n",
       "      <td>0</td>\n",
       "    </tr>\n",
       "    <tr>\n",
       "      <th>2</th>\n",
       "      <td>297292721</td>\n",
       "      <td>My family of 5 stayed at the residence San Ros...</td>\n",
       "      <td>1</td>\n",
       "    </tr>\n",
       "  </tbody>\n",
       "</table>\n",
       "</div>"
      ],
      "text/plain": [
       "    ReviewID                                         ReviewText  Sentiments\n",
       "0  407380226  The premises are very peaceful and well mainta...           1\n",
       "1  337083244  5 min drive out of Pisa or you need to catch t...           0\n",
       "2  297292721  My family of 5 stayed at the residence San Ros...           1"
      ]
     },
     "execution_count": 69,
     "metadata": {},
     "output_type": "execute_result"
    }
   ],
   "source": [
    "df.head(3)"
   ]
  },
  {
   "cell_type": "code",
   "execution_count": 122,
   "id": "292e1e98",
   "metadata": {},
   "outputs": [
    {
     "name": "stdout",
     "output_type": "stream",
     "text": [
      "Collecting textblob\n",
      "  Downloading textblob-0.17.1-py2.py3-none-any.whl (636 kB)\n",
      "Requirement already satisfied: nltk>=3.1 in c:\\users\\awais\\anaconda3\\lib\\site-packages (from textblob) (3.6.1)\n",
      "Requirement already satisfied: regex in c:\\users\\awais\\anaconda3\\lib\\site-packages (from nltk>=3.1->textblob) (2021.4.4)\n",
      "Requirement already satisfied: joblib in c:\\users\\awais\\anaconda3\\lib\\site-packages (from nltk>=3.1->textblob) (1.0.1)\n",
      "Requirement already satisfied: tqdm in c:\\users\\awais\\anaconda3\\lib\\site-packages (from nltk>=3.1->textblob) (4.59.0)\n",
      "Requirement already satisfied: click in c:\\users\\awais\\anaconda3\\lib\\site-packages (from nltk>=3.1->textblob) (7.1.2)\n",
      "Installing collected packages: textblob\n",
      "Successfully installed textblob-0.17.1\n"
     ]
    }
   ],
   "source": [
    "!pip install textblob "
   ]
  },
  {
   "cell_type": "code",
   "execution_count": 81,
   "id": "05e0c0a8",
   "metadata": {},
   "outputs": [],
   "source": [
    "from textblob import TextBlob"
   ]
  },
  {
   "cell_type": "code",
   "execution_count": 82,
   "id": "2253bf1e",
   "metadata": {},
   "outputs": [
    {
     "name": "stdout",
     "output_type": "stream",
     "text": [
      "0.3\n"
     ]
    }
   ],
   "source": [
    "blob=TextBlob(\" The rooms are very spacious and well maintained\")\n",
    "print(blob.sentiment.subjectivity)"
   ]
  },
  {
   "cell_type": "code",
   "execution_count": 83,
   "id": "1670a088",
   "metadata": {},
   "outputs": [],
   "source": [
    "r_txt=df['ReviewText']"
   ]
  },
  {
   "cell_type": "code",
   "execution_count": 74,
   "id": "d0eb8374",
   "metadata": {},
   "outputs": [
    {
     "data": {
      "text/plain": [
       "0        The premises are very peaceful and well mainta...\n",
       "1        5 min drive out of Pisa or you need to catch t...\n",
       "2        My family of 5 stayed at the residence San Ros...\n",
       "3        We stayed here for a couple of nights on the w...\n",
       "4        The accomodation was simple but more than adeq...\n",
       "                               ...                        \n",
       "58607    It is hard for me to review an oceanfront hote...\n",
       "58608    I live close by, and needed to stay somewhere ...\n",
       "58609    Rolled in 11:30 laid out heads down woke up to...\n",
       "58610    Absolutely terrible..I was told I was being gi...\n",
       "58611    Filthy, outdated, noisy neighbours, but this w...\n",
       "Name: ReviewText, Length: 58612, dtype: object"
      ]
     },
     "execution_count": 74,
     "metadata": {},
     "output_type": "execute_result"
    }
   ],
   "source": [
    "r_txt"
   ]
  },
  {
   "cell_type": "code",
   "execution_count": 84,
   "id": "92097413",
   "metadata": {},
   "outputs": [
    {
     "name": "stdout",
     "output_type": "stream",
     "text": [
      "58612\n"
     ]
    }
   ],
   "source": [
    "subjectivity=[]\n",
    "for i in range(0,len(r_txt)):\n",
    "    blob=TextBlob(r_txt[i])\n",
    "    sub=blob.sentiment.subjectivity\n",
    "    subjectivity.append(sub)\n",
    "print(len(subjectivity))"
   ]
  },
  {
   "cell_type": "code",
   "execution_count": 103,
   "id": "9a92708b",
   "metadata": {},
   "outputs": [],
   "source": [
    "df.insert(len(df.columns), 'Subjectivity_Score', subjectivity)"
   ]
  },
  {
   "cell_type": "code",
   "execution_count": 104,
   "id": "c25c47a1",
   "metadata": {},
   "outputs": [
    {
     "name": "stdout",
     "output_type": "stream",
     "text": [
      "removed col and added it back in\n"
     ]
    }
   ],
   "source": [
    "df.to_csv('.\\\\features\\\\aftersubjectivity.csv', index=False)\n",
    "print('removed col and added it back in')"
   ]
  },
  {
   "cell_type": "markdown",
   "id": "a5595045",
   "metadata": {},
   "source": [
    "### Tf IDF"
   ]
  },
  {
   "cell_type": "code",
   "execution_count": 105,
   "id": "e5764724",
   "metadata": {},
   "outputs": [],
   "source": [
    "df=pd.read_csv('.\\\\features\\\\aftersubjectivity.csv')"
   ]
  },
  {
   "cell_type": "code",
   "execution_count": 107,
   "id": "273239e2",
   "metadata": {},
   "outputs": [
    {
     "data": {
      "text/plain": [
       "58612"
      ]
     },
     "execution_count": 107,
     "metadata": {},
     "output_type": "execute_result"
    }
   ],
   "source": [
    "len(df)"
   ]
  }
 ],
 "metadata": {
  "kernelspec": {
   "display_name": "Python 3",
   "language": "python",
   "name": "python3"
  },
  "language_info": {
   "codemirror_mode": {
    "name": "ipython",
    "version": 3
   },
   "file_extension": ".py",
   "mimetype": "text/x-python",
   "name": "python",
   "nbconvert_exporter": "python",
   "pygments_lexer": "ipython3",
   "version": "3.8.8"
  }
 },
 "nbformat": 4,
 "nbformat_minor": 5
}
